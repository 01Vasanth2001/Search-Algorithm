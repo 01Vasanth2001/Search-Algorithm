{
 "cells": [
  {
   "cell_type": "markdown",
   "id": "7a3e381a",
   "metadata": {},
   "source": [
    "# DEFINING GRAPH"
   ]
  },
  {
   "cell_type": "code",
   "execution_count": 4,
   "id": "b3894924",
   "metadata": {},
   "outputs": [],
   "source": [
    "my_graph = {\n",
    "    \n",
    "    'S':['A','B','C'],\n",
    "    'A':['S','B','D'],\n",
    "    'B':['S','A','D','H'],\n",
    "    'C':['S','L'],\n",
    "    'D':['A','B','F'],\n",
    "    'F':['D','H'],\n",
    "    'H':['B','F','G'],\n",
    "    'G':['H','E'],\n",
    "    'L':['C','I','J'],\n",
    "    'I':['L','K'],\n",
    "    'J':['L','K'],\n",
    "    'K':['I','J','E'],\n",
    "    'E':['G','K']\n",
    "    \n",
    "    \n",
    "}"
   ]
  },
  {
   "cell_type": "markdown",
   "id": "14fa330e",
   "metadata": {},
   "source": [
    "# DEQUE"
   ]
  },
  {
   "cell_type": "code",
   "execution_count": 5,
   "id": "70af14d2",
   "metadata": {},
   "outputs": [],
   "source": [
    "from collections import deque"
   ]
  },
  {
   "cell_type": "markdown",
   "id": "031d73bc",
   "metadata": {},
   "source": [
    "# APPLYING ALGORITHM"
   ]
  },
  {
   "cell_type": "code",
   "execution_count": 11,
   "id": "bc102f00",
   "metadata": {},
   "outputs": [],
   "source": [
    "def bfs(graph,start,goal):\n",
    "    visited = []\n",
    "    queue=deque([start])\n",
    "    while queue:\n",
    "        node = queue.popleft()\n",
    "        if node not in visited :\n",
    "            visited.append(node)\n",
    "            print(\"Have visited: \",node)\n",
    "            neighbours = graph[node]\n",
    "            if node == goal :\n",
    "                return(\"Goal is reached via path: \",visited)\n",
    "            for neighbours in neighbours :\n",
    "                queue.append(neighbours)\n",
    "    "
   ]
  },
  {
   "cell_type": "markdown",
   "id": "ff30c31e",
   "metadata": {},
   "source": [
    "# (i) S to E"
   ]
  },
  {
   "cell_type": "code",
   "execution_count": 8,
   "id": "1e796fae",
   "metadata": {},
   "outputs": [
    {
     "name": "stdout",
     "output_type": "stream",
     "text": [
      "Have visited:  S\n",
      "Have visited:  A\n",
      "Have visited:  B\n",
      "Have visited:  C\n",
      "Have visited:  D\n",
      "Have visited:  H\n",
      "Have visited:  L\n",
      "Have visited:  F\n",
      "Have visited:  G\n",
      "Have visited:  I\n",
      "Have visited:  J\n",
      "Have visited:  E\n"
     ]
    },
    {
     "data": {
      "text/plain": [
       "('Goal is reached via path: ',\n",
       " ['S', 'A', 'B', 'C', 'D', 'H', 'L', 'F', 'G', 'I', 'J', 'E'])"
      ]
     },
     "execution_count": 8,
     "metadata": {},
     "output_type": "execute_result"
    }
   ],
   "source": [
    "bfs(my_graph,'S','E')"
   ]
  },
  {
   "cell_type": "markdown",
   "id": "35e26904",
   "metadata": {},
   "source": [
    "# (ii) S to F"
   ]
  },
  {
   "cell_type": "code",
   "execution_count": 10,
   "id": "7362eed4",
   "metadata": {},
   "outputs": [
    {
     "name": "stdout",
     "output_type": "stream",
     "text": [
      "Have visited:  S\n",
      "Have visited:  A\n",
      "Have visited:  B\n",
      "Have visited:  C\n",
      "Have visited:  D\n",
      "Have visited:  H\n",
      "Have visited:  L\n",
      "Have visited:  F\n"
     ]
    },
    {
     "data": {
      "text/plain": [
       "('Goal is reached via path: ', ['S', 'A', 'B', 'C', 'D', 'H', 'L', 'F'])"
      ]
     },
     "execution_count": 10,
     "metadata": {},
     "output_type": "execute_result"
    }
   ],
   "source": [
    "bfs(my_graph,'S','F')"
   ]
  },
  {
   "cell_type": "raw",
   "id": "d08ba5d6",
   "metadata": {},
   "source": []
  }
 ],
 "metadata": {
  "kernelspec": {
   "display_name": "Python 3 (ipykernel)",
   "language": "python",
   "name": "python3"
  },
  "language_info": {
   "codemirror_mode": {
    "name": "ipython",
    "version": 3
   },
   "file_extension": ".py",
   "mimetype": "text/x-python",
   "name": "python",
   "nbconvert_exporter": "python",
   "pygments_lexer": "ipython3",
   "version": "3.9.13"
  }
 },
 "nbformat": 4,
 "nbformat_minor": 5
}
